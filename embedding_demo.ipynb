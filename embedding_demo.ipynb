{
 "cells": [
  {
   "cell_type": "markdown",
   "metadata": {},
   "source": [
    " # Demonstration of Embeddings for Similarity Measure\n",
    "\n",
    " Description of the demo."
   ]
  },
  {
   "cell_type": "markdown",
   "metadata": {},
   "source": [
    " Firstly, let us make the necessary imports."
   ]
  },
  {
   "cell_type": "code",
   "execution_count": null,
   "metadata": {},
   "outputs": [],
   "source": [
    "# %%\n",
    "import pandas as pd\n",
    "from operations.calling import Embeddings\n",
    "from embeddings.embeddings import LatentFeatureAnalysis, SimilarityMeasurement"
   ]
  },
  {
   "cell_type": "markdown",
   "metadata": {},
   "source": [
    " # Import the data\n",
    "\n",
    " The data consits of movie plots scraped from Wikipedia. In this\n",
    "\n",
    " case move plots are movies belonging from the adventure genre,\n",
    "\n",
    " starting from 1980s up to the 2020s."
   ]
  },
  {
   "cell_type": "code",
   "execution_count": null,
   "metadata": {},
   "outputs": [],
   "source": [
    "# %%\n",
    "raw_data = pd.read_csv(\n",
    "    filepath_or_buffer=r\"D:\\Projects\\025_scenario_writing\\other\\output\\screenplays_adventure_films_1980_2020_prepared.csv\"\n",
    ")"
   ]
  },
  {
   "cell_type": "markdown",
   "metadata": {},
   "source": [
    " It is fairly easy to generate embeddings."
   ]
  },
  {
   "cell_type": "code",
   "execution_count": null,
   "metadata": {},
   "outputs": [],
   "source": [
    "# %%\n",
    "film_summary_embeddings = []\n",
    "for film_name, film_summary in zip(raw_data.loc[:, 'film_name'], raw_data.loc[:, 'content']):\n",
    "    print(f'Making embedding for {film_name}')\n",
    "    embedding = Embeddings(raw_text=film_summary)\n",
    "    embedding.generate_embeddings()\n",
    "    film_summary_embeddings.extend([embedding.get_embeddings()])\n",
    "\n",
    "film_data = pd.DataFrame.from_records(film_summary_embeddings)"
   ]
  },
  {
   "cell_type": "markdown",
   "metadata": {},
   "source": [
    " Once that embeddings are available, it is possible to perform some of\n",
    "\n",
    " the latent feature analyses. This will (a) preserve the most of the\n",
    "\n",
    " variance in the data, while at the same time providing us (b) to\n",
    "\n",
    " compute similiarity measurement at fraction of the cost, of what\n",
    "\n",
    " would be required if we would be using original embeddings.\n",
    "\n",
    " Computation over two dimensions is much faster than the computation\n",
    "\n",
    " over thousands of dimensions."
   ]
  },
  {
   "cell_type": "code",
   "execution_count": null,
   "metadata": {},
   "outputs": [],
   "source": [
    "# %% \n",
    "latent_feature_analyses = LatentFeatureAnalysis(\n",
    "    data=film_data,\n",
    "    method='PCA'\n",
    ")\n",
    "latent_feature_analyses.execute_analysis()"
   ]
  },
  {
   "cell_type": "markdown",
   "metadata": {},
   "source": [
    " Let us now empirically evaluate the quality of reduction. This can be\n",
    "\n",
    " done by selecting a reference movie, and finding the most similar\n",
    "\n",
    " movies by their plots."
   ]
  },
  {
   "cell_type": "code",
   "execution_count": null,
   "metadata": {},
   "outputs": [],
   "source": [
    "# %%\n",
    "reference_movie = 'The Batman'\n",
    "mask = raw_data.loc[:, 'film_name'] == reference_movie\n",
    "reference_index = raw_data.index[mask].to_list()[0]"
   ]
  },
  {
   "cell_type": "markdown",
   "metadata": {},
   "source": [
    " Now that index of the reference movie is retrieved, it is possible to\n",
    "\n",
    " utilize it in the measurement of similarity and identification of the\n",
    "\n",
    " most similar movie plots. Count of most similar movie plots is set to\n",
    "\n",
    " 10."
   ]
  },
  {
   "cell_type": "code",
   "execution_count": null,
   "metadata": {},
   "outputs": [],
   "source": [
    "# %%\n",
    "similarity_measurement = SimilarityMeasurement(\n",
    "    data=latent_feature_analyses.get_reduction(),\n",
    "    reference_index=reference_index,\n",
    "    top_k=10,\n",
    "    method='euclidean'\n",
    ")\n",
    "similarity_measurement.compute_distances()\n",
    "top_most_similar = similarity_measurement.get_top_k()"
   ]
  },
  {
   "cell_type": "markdown",
   "metadata": {},
   "source": [
    " Let us discover most similar movies, to our reference movie, according\n",
    "\n",
    " embeddings and LFA performed."
   ]
  },
  {
   "cell_type": "code",
   "execution_count": null,
   "metadata": {},
   "outputs": [],
   "source": [
    "# %%\n",
    "for most_similar in top_most_similar:\n",
    "    print(raw_data.iloc[most_similar]['film_name'])"
   ]
  }
 ],
 "metadata": {
  "language_info": {
   "codemirror_mode": {
    "name": "ipython",
    "version": 3
   },
   "file_extension": ".py",
   "mimetype": "text/x-python",
   "name": "python",
   "nbconvert_exporter": "python",
   "pygments_lexer": "ipython3",
   "version": 3
  }
 },
 "nbformat": 4,
 "nbformat_minor": 2
}
