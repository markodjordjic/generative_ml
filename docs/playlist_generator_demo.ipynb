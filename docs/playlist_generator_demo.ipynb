{
 "cells": [
  {
   "cell_type": "code",
   "execution_count": 1,
   "id": "12497d8d-5611-4536-8cae-1705af970f47",
   "metadata": {},
   "outputs": [],
   "source": [
    "from operations.playlist_generating import PlayListGenerator\n",
    "from playlist_making.playlist_maker import PlayListMaker"
   ]
  },
  {
   "cell_type": "markdown",
   "id": "31019d6b-408c-4e9c-ba3a-11572acac0ba",
   "metadata": {},
   "source": [
    "# Demonstration of the non-interactive mode"
   ]
  },
  {
   "cell_type": "code",
   "execution_count": 2,
   "id": "89e3eab6-201e-404a-8334-b23120c37a11",
   "metadata": {},
   "outputs": [],
   "source": [
    "PLAYLIST_NAME = 'Surf Rock'"
   ]
  },
  {
   "cell_type": "code",
   "execution_count": 3,
   "id": "d204af82-e334-476a-89a8-2dca123369ca",
   "metadata": {},
   "outputs": [],
   "source": [
    "playlist_generator = PlayListGenerator(\n",
    "    count=8,\n",
    "    description=PLAYLIST_NAME,\n",
    "    mode='singular'\n",
    ")\n",
    "playlist_generator.generate_list()"
   ]
  },
  {
   "cell_type": "code",
   "execution_count": 4,
   "id": "5aac4dcc-d34e-41f3-b0f4-b5ce33ae3838",
   "metadata": {},
   "outputs": [
    {
     "name": "stdout",
     "output_type": "stream",
     "text": [
      "[{'song': 'Pipeline', 'artist': 'The Chantays'}, {'song': 'Wipe Out', 'artist': 'The Surfaris'}, {'song': 'Misirlou', 'artist': 'Dick Dale'}, {'song': \"Surfin' Safari\", 'artist': 'The Beach Boys'}, {'song': \"Walk Don't Run\", 'artist': 'The Ventures'}, {'song': \"Surfin' USA\", 'artist': 'The Beach Boys'}, {'song': 'Apache', 'artist': 'The Shadows'}, {'song': \"Let's Go Trippin'\", 'artist': 'Dick Dale'}]\n"
     ]
    }
   ],
   "source": [
    "playlist = playlist_generator.get_play_list()\n",
    "print(playlist)"
   ]
  },
  {
   "cell_type": "markdown",
   "id": "9bfa2916-5ac4-4aa0-8109-4f732f2efbdc",
   "metadata": {},
   "source": [
    "# Demonstration of the interactive mode"
   ]
  },
  {
   "cell_type": "code",
   "execution_count": 5,
   "id": "c3c9fec3-504e-4333-ad9c-88d2b5283825",
   "metadata": {},
   "outputs": [
    {
     "name": "stdout",
     "output_type": "stream",
     "text": [
      "Helpful, [\n",
      "    {\"song\": \"Pipeline\", \"artist\": \"The Chantays\"},\n",
      "    {\"song\": \"Wipe Out\", \"artist\": \"The Surfaris\"},\n",
      "    {\"song\": \"Misirlou\", \"artist\": \"Dick Dale\"},\n",
      "    {\"song\": \"Surfin' Safari\", \"artist\": \"The Beach Boys\"},\n",
      "    {\"song\": \"Walk Don't Run\", \"artist\": \"The Ventures\"},\n",
      "    {\"song\": \"Surfin' USA\", \"artist\": \"The Beach Boys\"},\n",
      "    {\"song\": \"Apache\", \"artist\": \"The Shadows\"},\n",
      "    {\"song\": \"Let's Go Trippin'\", \"artist\": \"Dick Dale\"}\n",
      "]\n"
     ]
    },
    {
     "name": "stdin",
     "output_type": "stream",
     "text": [
      "Accept (Y), reject (N), or finish (F):  N\n",
      ">> Provide suggestion what can be corrected?  There are two songs from the artist Beach Boys. Replace one of those songs with another artist.\n"
     ]
    },
    {
     "name": "stdout",
     "output_type": "stream",
     "text": [
      "Helpful, [\n",
      "    {\"song\": \"Pipeline\", \"artist\": \"The Chantays\"},\n",
      "    {\"song\": \"Wipe Out\", \"artist\": \"The Surfaris\"},\n",
      "    {\"song\": \"Misirlou\", \"artist\": \"Dick Dale\"},\n",
      "    {\"song\": \"Surfin' Safari\", \"artist\": \"The Beach Boys\"},\n",
      "    {\"song\": \"Walk Don't Run\", \"artist\": \"The Ventures\"},\n",
      "    {\"song\": \"Miserlou\", \"artist\": \"The Trashmen\"},\n",
      "    {\"song\": \"Apache\", \"artist\": \"The Shadows\"},\n",
      "    {\"song\": \"Let's Go Trippin'\", \"artist\": \"Dick Dale\"}\n",
      "]\n"
     ]
    },
    {
     "name": "stdin",
     "output_type": "stream",
     "text": [
      "Accept (Y), reject (N), or finish (F):  N\n",
      ">> Provide suggestion what can be corrected?  Now there are two songs from the artist Dick Dale. Replace one of those songs with another artists that is not on the list.\n"
     ]
    },
    {
     "name": "stdout",
     "output_type": "stream",
     "text": [
      "Helpful, [\n",
      "    {\"song\": \"Pipeline\", \"artist\": \"The Chantays\"},\n",
      "    {\"song\": \"Wipe Out\", \"artist\": \"The Surfaris\"},\n",
      "    {\"song\": \"Misirlou\", \"artist\": \"Dick Dale\"},\n",
      "    {\"song\": \"Surfin' Safari\", \"artist\": \"The Beach Boys\"},\n",
      "    {\"song\": \"Walk Don't Run\", \"artist\": \"The Ventures\"},\n",
      "    {\"song\": \"Miserlou\", \"artist\": \"The Trashmen\"},\n",
      "    {\"song\": \"Apache\", \"artist\": \"The Shadows\"},\n",
      "    {\"song\": \"Hawaii Five-O\", \"artist\": \"The Ventures\"}\n",
      "]\n"
     ]
    },
    {
     "name": "stdin",
     "output_type": "stream",
     "text": [
      "Accept (Y), reject (N), or finish (F):  N\n",
      ">> Provide suggestion what can be corrected?  Now there are two songs from the artist The Ventures. Replace one of those songs with another artist that is not on the list.\n"
     ]
    },
    {
     "name": "stdout",
     "output_type": "stream",
     "text": [
      "Helpful, [\n",
      "    {\"song\": \"Pipeline\", \"artist\": \"The Chantays\"},\n",
      "    {\"song\": \"Wipe Out\", \"artist\": \"The Surfaris\"},\n",
      "    {\"song\": \"Misirlou\", \"artist\": \"Dick Dale\"},\n",
      "    {\"song\": \"Surfin' Safari\", \"artist\": \"The Beach Boys\"},\n",
      "    {\"song\": \"Miserlou\", \"artist\": \"The Trashmen\"},\n",
      "    {\"song\": \"Apache\", \"artist\": \"The Shadows\"},\n",
      "    {\"song\": \"Hawaii Five-O\", \"artist\": \"The Ventures\"},\n",
      "    {\"song\": \"Surf City\", \"artist\": \"Jan and Dean\"}\n",
      "]\n"
     ]
    },
    {
     "name": "stdin",
     "output_type": "stream",
     "text": [
      "Accept (Y), reject (N), or finish (F):  Y\n",
      ">> Provide further suggestions:  Add one song from 1980s heavy metal band.\n"
     ]
    },
    {
     "name": "stdout",
     "output_type": "stream",
     "text": [
      "Helpful, [\n",
      "    {\"song\": \"Pipeline\", \"artist\": \"The Chantays\"},\n",
      "    {\"song\": \"Wipe Out\", \"artist\": \"The Surfaris\"},\n",
      "    {\"song\": \"Misirlou\", \"artist\": \"Dick Dale\"},\n",
      "    {\"song\": \"Surfin' Safari\", \"artist\": \"The Beach Boys\"},\n",
      "    {\"song\": \"Miserlou\", \"artist\": \"The Trashmen\"},\n",
      "    {\"song\": \"Apache\", \"artist\": \"The Shadows\"},\n",
      "    {\"song\": \"Hawaii Five-O\", \"artist\": \"The Ventures\"},\n",
      "    {\"song\": \"Surf City\", \"artist\": \"Jan and Dean\"},\n",
      "    {\"song\": \"Crazy Train\", \"artist\": \"Ozzy Osbourne\"}\n",
      "]\n"
     ]
    },
    {
     "name": "stdin",
     "output_type": "stream",
     "text": [
      "Accept (Y), reject (N), or finish (F):  F\n"
     ]
    }
   ],
   "source": [
    "playlist_generator = PlayListGenerator(\n",
    "    count=8,\n",
    "    description=PLAYLIST_NAME,\n",
    "    mode='interactive'\n",
    ")\n",
    "playlist_generator.generate_list()"
   ]
  },
  {
   "cell_type": "code",
   "execution_count": 6,
   "id": "625e41ee-4ac4-4697-92f6-be26f1b97093",
   "metadata": {},
   "outputs": [],
   "source": [
    "playlist = playlist_generator.get_play_list()"
   ]
  },
  {
   "cell_type": "code",
   "execution_count": 7,
   "id": "5e802806-e312-4f44-a467-24bc7e605a2a",
   "metadata": {},
   "outputs": [
    {
     "name": "stdout",
     "output_type": "stream",
     "text": [
      "[{'song': 'Pipeline', 'artist': 'The Chantays'}, {'song': 'Wipe Out', 'artist': 'The Surfaris'}, {'song': 'Misirlou', 'artist': 'Dick Dale'}, {'song': \"Surfin' Safari\", 'artist': 'The Beach Boys'}, {'song': 'Miserlou', 'artist': 'The Trashmen'}, {'song': 'Apache', 'artist': 'The Shadows'}, {'song': 'Hawaii Five-O', 'artist': 'The Ventures'}, {'song': 'Surf City', 'artist': 'Jan and Dean'}, {'song': 'Crazy Train', 'artist': 'Ozzy Osbourne'}]\n"
     ]
    }
   ],
   "source": [
    "print(playlist)"
   ]
  },
  {
   "cell_type": "markdown",
   "id": "c1458dd7-33a3-4cb3-9ee5-c243b9e3449c",
   "metadata": {},
   "source": [
    "# Send the Play List to Spotify"
   ]
  },
  {
   "cell_type": "code",
   "execution_count": 8,
   "id": "fe1dac06-0468-4b94-b813-aaf768d5c3a1",
   "metadata": {},
   "outputs": [],
   "source": [
    "playlist_maker = PlayListMaker(\n",
    "        playlist_name = 'Surf Rock with Some Heavy Metal',\n",
    "        playlist=playlist,\n",
    ")\n",
    "playlist_maker.make_playlist()"
   ]
  }
 ],
 "metadata": {
  "kernelspec": {
   "display_name": "Python 3 (ipykernel)",
   "language": "python",
   "name": "python3"
  },
  "language_info": {
   "codemirror_mode": {
    "name": "ipython",
    "version": 3
   },
   "file_extension": ".py",
   "mimetype": "text/x-python",
   "name": "python",
   "nbconvert_exporter": "python",
   "pygments_lexer": "ipython3",
   "version": "3.11.0"
  }
 },
 "nbformat": 4,
 "nbformat_minor": 5
}
